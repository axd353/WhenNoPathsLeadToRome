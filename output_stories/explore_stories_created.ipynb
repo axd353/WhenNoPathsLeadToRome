{
 "cells": [
  {
   "cell_type": "code",
   "execution_count": 9,
   "id": "f1e4d0dc",
   "metadata": {},
   "outputs": [],
   "source": [
    "import os\n",
    "import pandas as pd\n",
    "from glob import glob\n",
    "from typing import Dict"
   ]
  },
  {
   "cell_type": "code",
   "execution_count": 10,
   "id": "a06458d0",
   "metadata": {},
   "outputs": [],
   "source": [
    "def dataframe_to_string_with_gaps(df: pd.DataFrame, output_file: str, column_list=None):\n",
    "    \"\"\"\n",
    "    Takes a Pandas DataFrame and writes each row to a text file as a string,\n",
    "    with three line gaps between rows and one line gap between columns within a row.\n",
    "    Does not truncate any content.\n",
    "\n",
    "    Args:\n",
    "        df (pd.DataFrame): The input DataFrame.\n",
    "        output_file (str): The name of the output text file.\n",
    "    \"\"\"\n",
    "    if column_list != None:\n",
    "        df =df[column_list]\n",
    "    with open(output_file, 'w', encoding='utf-8') as f:\n",
    "        for index, row in df.iterrows():\n",
    "            row_str = \"\"\n",
    "            for col_name, value in row.items():\n",
    "                row_str += f'{col_name}: '+str(value)\n",
    "                row_str += \"\\n\"  # One line gap between columns\n",
    "            f.write(row_str)\n",
    "            f.write(\"\\n\\n\\n\")  # Three line gaps between rows"
   ]
  },
  {
   "cell_type": "code",
   "execution_count": 28,
   "id": "d76f10bf",
   "metadata": {},
   "outputs": [],
   "source": [
    "nora_df = pd.read_csv('test_stories_bench_ASP_Nora.csv')\n",
    "nora1_1_df = pd.read_csv('test_stories_bench_ASP_Nora1.1.csv')\n",
    "nora_w_ambg = pd.read_csv('test_stories_bench_ASP_Nora_Wmbg.csv')"
   ]
  },
  {
   "cell_type": "code",
   "execution_count": 29,
   "id": "9296379f",
   "metadata": {},
   "outputs": [],
   "source": [
    "column_list = [ 'edge_types' , 'story_edges','query_edge', 'query_label', 'query_relation','derivation_chain', 'BL','story_index',\n",
    "                'OPEC','ReasoningDepth', 'derivations_for_other_implied_relationships','metric_for_other_implied_relationships',  'ReasoningWidth','alternate_labels_true']\n",
    "nora_df = nora_df[column_list]\n",
    "nora1_1_df = nora1_1_df[column_list]"
   ]
  },
  {
   "cell_type": "code",
   "execution_count": 30,
   "id": "ec9ea73b",
   "metadata": {},
   "outputs": [
    {
     "name": "stdout",
     "output_type": "stream",
     "text": [
      "1\n",
      "1\n",
      "3\n"
     ]
    }
   ],
   "source": [
    "print(nora_df['ReasoningWidth'].max())\n",
    "print(nora1_1_df['ReasoningWidth'].max())\n",
    "print(nora_w_ambg['ReasoningWidth'].max())"
   ]
  },
  {
   "cell_type": "code",
   "execution_count": 31,
   "id": "dad26719",
   "metadata": {},
   "outputs": [
    {
     "name": "stdout",
     "output_type": "stream",
     "text": [
      "Index(['entities', 'story_edges', 'edge_types', 'query_edge', 'query_relation',\n",
      "       'program', 'models', 'num_answer_sets', 'story_index', 'ent_num_used',\n",
      "       'max_facts_used', 'experimental_setting', 'derivation_chain',\n",
      "       'chain_len', 'num_facts_required', 'sum_facts_world_rules',\n",
      "       'fact_choice_branches', 'branch_results', 'branch_outcomes',\n",
      "       'unique_rules', 'unique_facts', 'num_variants', 'ReasoningWidth',\n",
      "       'branch_cluttr_hops', 'total_cluttr_hops', 'max_cluttr_hops',\n",
      "       'ReasoningDepth_only_pos_derivations', 'graph_complexity_stats', 'BL',\n",
      "       'BL_no_contradiction', 'non_path_atom_counts', 'OPEC_pos_refn', 'OPEC',\n",
      "       'ReasoningDepth', 'max_branching_realized',\n",
      "       'derivations_for_other_implied_relationships',\n",
      "       'metric_for_other_implied_relationships',\n",
      "       'branch_results_for_other_implied_relationships', 'other_relationships',\n",
      "       'other_implied_relationships', 'correct_implied_alternatives',\n",
      "       'alternate_labels_true', 'query_label'],\n",
      "      dtype='object')\n"
     ]
    }
   ],
   "source": [
    "print(nora_w_ambg.columns)\n",
    "column_list_amb = column_list + ['fact_choice_branches', 'branch_results', 'branch_outcomes','branch_results_for_other_implied_relationships']\n",
    "nora_w_ambg = nora_w_ambg[column_list_amb]"
   ]
  },
  {
   "cell_type": "code",
   "execution_count": null,
   "id": "eb007e4f",
   "metadata": {},
   "outputs": [],
   "source": [
    "##see some ambiguous stories\n",
    "output_file = 'see_stories1.txt'\n",
    "dataframe_to_string_with_gaps(df = nora_w_ambg[nora_w_ambg['ReasoningWidth'] ==3], output_file = output_file)\n",
    "### what gets shown in these \n",
    "# 'branch_results' (documents which  refinemnts/branches leads to a contradiction  and ahich give rise to unique set of facts (given explicitly + entailed)), \n",
    "# 'branch_outcomes' (groups which refinements have the same proof of the query relation ), 'fact_choice_branches' (the refinements/branches are indexed as 0,1,..., this shows how each ambiguous facts is resolved for a given index ), \n",
    "# 'branch_results_for_other_implied_relationships' (same as branch outcome but fpor the other relationships)\n"
   ]
  },
  {
   "cell_type": "code",
   "execution_count": null,
   "id": "1787778b",
   "metadata": {},
   "outputs": [],
   "source": []
  }
 ],
 "metadata": {
  "kernelspec": {
   "display_name": "Edge Transformer Env",
   "language": "python",
   "name": "edge_transformer"
  },
  "language_info": {
   "codemirror_mode": {
    "name": "ipython",
    "version": 3
   },
   "file_extension": ".py",
   "mimetype": "text/x-python",
   "name": "python",
   "nbconvert_exporter": "python",
   "pygments_lexer": "ipython3",
   "version": "3.12.3"
  }
 },
 "nbformat": 4,
 "nbformat_minor": 5
}
